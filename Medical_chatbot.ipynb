{
  "nbformat": 4,
  "nbformat_minor": 0,
  "metadata": {
    "colab": {
      "provenance": []
    },
    "kernelspec": {
      "name": "python3",
      "display_name": "Python 3"
    },
    "language_info": {
      "name": "python"
    }
  },
  "cells": [
    {
      "cell_type": "code",
      "execution_count": 86,
      "metadata": {
        "id": "7laRuajKGVSS",
        "colab": {
          "base_uri": "https://localhost:8080/"
        },
        "outputId": "efa34eda-ae30-407d-b755-ca6778737ff6"
      },
      "outputs": [
        {
          "output_type": "stream",
          "name": "stdout",
          "text": [
            "Requirement already satisfied: pinecone in /usr/local/lib/python3.11/dist-packages (6.0.2)\n",
            "Requirement already satisfied: certifi>=2019.11.17 in /usr/local/lib/python3.11/dist-packages (from pinecone) (2025.4.26)\n",
            "Requirement already satisfied: pinecone-plugin-interface<0.0.8,>=0.0.7 in /usr/local/lib/python3.11/dist-packages (from pinecone) (0.0.7)\n",
            "Requirement already satisfied: python-dateutil>=2.5.3 in /usr/local/lib/python3.11/dist-packages (from pinecone) (2.9.0.post0)\n",
            "Requirement already satisfied: typing-extensions>=3.7.4 in /usr/local/lib/python3.11/dist-packages (from pinecone) (4.13.2)\n",
            "Requirement already satisfied: urllib3>=1.26.0 in /usr/local/lib/python3.11/dist-packages (from pinecone) (2.4.0)\n",
            "Requirement already satisfied: six>=1.5 in /usr/local/lib/python3.11/dist-packages (from python-dateutil>=2.5.3->pinecone) (1.17.0)\n"
          ]
        }
      ],
      "source": [
        "!pip install pinecone"
      ]
    },
    {
      "cell_type": "code",
      "source": [
        "%pip install xmltodict"
      ],
      "metadata": {
        "colab": {
          "base_uri": "https://localhost:8080/"
        },
        "id": "BadQkOnv21Gq",
        "outputId": "f384e731-66f9-4a69-bcaf-b49e6199448f"
      },
      "execution_count": 87,
      "outputs": [
        {
          "output_type": "stream",
          "name": "stdout",
          "text": [
            "Requirement already satisfied: xmltodict in /usr/local/lib/python3.11/dist-packages (0.14.2)\n"
          ]
        }
      ]
    },
    {
      "cell_type": "code",
      "source": [
        "from pinecone import Pinecone\n",
        "\n",
        "pc = Pinecone(\"pcsk_5zSDm7_FiXyttnjXKArVHUKTq2wVnvigTxJD4jQtavV9MJ2kVQbVVjtJuso6pTUkvaJU2W\")\n",
        "\n",
        "# Embed data\n",
        "data = [\n",
        "    {\"id\": \"vec1\", \"text\": \"Apple is a popular fruit known for its sweetness and crisp texture.\"},\n",
        "    {\"id\": \"vec2\", \"text\": \"The tech company Apple is known for its innovative products like the iPhone.\"},\n",
        "    {\"id\": \"vec3\", \"text\": \"Many people enjoy eating apples as a healthy snack.\"},\n",
        "    {\"id\": \"vec4\", \"text\": \"Apple Inc. has revolutionized the tech industry with its sleek designs and user-friendly interfaces.\"},\n",
        "    {\"id\": \"vec5\", \"text\": \"An apple a day keeps the doctor away, as the saying goes.\"},\n",
        "]\n",
        "\n",
        "embeddings = pc.inference.embed(\n",
        "    model=\"llama-text-embed-v2\",\n",
        "    inputs=[d['text'] for d in data],\n",
        "    parameters={\n",
        "        \"input_type\": \"passage\"\n",
        "    }\n",
        ")\n",
        "\n",
        "vectors = []\n",
        "for d, e in zip(data, embeddings):\n",
        "    vectors.append({\n",
        "        \"id\": d['id'],\n",
        "        \"values\": e['values'],\n",
        "        \"metadata\": {'text': d['text']}\n",
        "    })\n",
        "index = pc.Index('llama-text-embed-v2-index')\n",
        "\n",
        "\n",
        "\n"
      ],
      "metadata": {
        "id": "hIqPZN0IHJ0-"
      },
      "execution_count": 88,
      "outputs": []
    },
    {
      "cell_type": "code",
      "source": [
        "import getpass\n",
        "import os\n",
        "\n",
        "\n",
        "os.environ[\"GROQ_API_KEY\"] =\"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\""
      ],
      "metadata": {
        "id": "QxRYJQWjMwIj"
      },
      "execution_count": 89,
      "outputs": []
    },
    {
      "cell_type": "code",
      "source": [
        "pip install -qU langchain-groq"
      ],
      "metadata": {
        "id": "4TfsGxbuMCvs"
      },
      "execution_count": 90,
      "outputs": []
    },
    {
      "cell_type": "code",
      "source": [
        "user_info={\"user_id\":123}"
      ],
      "metadata": {
        "id": "gUz7_LvQmq-7"
      },
      "execution_count": 91,
      "outputs": []
    },
    {
      "cell_type": "code",
      "source": [
        "from langchain_groq import ChatGroq\n",
        "\n",
        "llm = ChatGroq(\n",
        "    model=\"llama-3.3-70b-versatile\",\n",
        "    temperature=0,\n",
        "    max_tokens=None,\n",
        "    timeout=None,\n",
        "    max_retries=2,\n",
        "    # other params...\n",
        ")"
      ],
      "metadata": {
        "id": "fJxJ-ChDVUEy"
      },
      "execution_count": 92,
      "outputs": []
    },
    {
      "cell_type": "code",
      "source": [
        "messages = [\n",
        "    (\n",
        "        \"system\",\n",
        "        \"You are a helpful assistant that translates English to French. Translate the user sentence.\",\n",
        "    ),\n",
        "    (\"human\", \"I love programming.\"),\n",
        "]\n",
        "ai_msg = llm.invoke(messages)\n",
        "print(ai_msg.content)"
      ],
      "metadata": {
        "id": "AnjiApNhGiOG",
        "colab": {
          "base_uri": "https://localhost:8080/"
        },
        "outputId": "58212f32-87e9-4114-e98d-0c1a6d792485"
      },
      "execution_count": 93,
      "outputs": [
        {
          "output_type": "stream",
          "name": "stdout",
          "text": [
            "J'adore la programmation.\n"
          ]
        }
      ]
    },
    {
      "cell_type": "code",
      "source": [
        "from langchain.prompts import ChatPromptTemplate\n",
        "\n",
        "controller_prompt = ChatPromptTemplate.from_messages([\n",
        "    (\"system\", \"\"\"\n",
        "You are a controller agent for a medical chatbot. Your job is to decide which of the following agents should handle the user query:\n",
        "\n",
        "- Response_agent: Use this for general medical questions that do not require any personal user information. For example, if the user asks for general facts or opinions unrelated to their personal condition or history.\n",
        "\n",
        "- retriever_agent: Use this when the user asks for medical advice or recommendations that depend on their personal data. If the user's own health, symptoms, or history are relevant, select this agent.\n",
        "\n",
        "Reply with only one of the following:\n",
        "- Response_agent\n",
        "- retriever_agent\n",
        "\"\"\"),\n",
        "    (\"user\", \"{input}\"),\n",
        "    (\"placeholder\", \"{agent_scratchpad}\")  # This is the correct role for tool responses or internal reasoning\n",
        "])\n"
      ],
      "metadata": {
        "id": "O61ZGiXzV3u8"
      },
      "execution_count": 94,
      "outputs": []
    },
    {
      "cell_type": "code",
      "source": [
        "from langchain.agents import create_tool_calling_agent\n",
        "tools=[]\n",
        "\n",
        "controller_agent = create_tool_calling_agent(llm, tools=tools,prompt=controller_prompt)"
      ],
      "metadata": {
        "id": "-s-LlixpXpM_"
      },
      "execution_count": 95,
      "outputs": []
    },
    {
      "cell_type": "code",
      "source": [
        "from langchain.prompts import ChatPromptTemplate\n",
        "from langchain_community.tools.pubmed.tool import PubmedQueryRun\n",
        "from langchain.tools.render import render_text_description\n",
        "\n",
        "\n",
        "\n",
        "\n",
        "pubmed= PubmedQueryRun()\n",
        "rendered_tools = render_text_description([pubmed])\n",
        "\n",
        "response_prompt = ChatPromptTemplate.from_messages([\n",
        "    (\"system\", f\"\"\"\n",
        "You are a response agent for a medical chatbot. Your job is to respond to user medical queries with reliable, evidence-based answers.\n",
        "\n",
        "You have access to a tool {rendered_tools}. Use it when the user asks about:\n",
        "- Conditions\n",
        "- Diseases\n",
        "- Treatments\n",
        "- Drugs\n",
        "- Medical research\n",
        "- Symptoms\n",
        "- Clinical guidelines\n",
        "\n",
        "Only respond if the question is clearly medical. If the query is unrelated to health or medicine, reply: \"I'm a medical chatbot and can only answer health-related questions.\"\n",
        "\n",
        "Always use the PubMedSearch tool to gather relevant evidence when needed, before answering. However, filter the response to make it easy for the common person to understand.\n",
        "Also only display the part of result that is relevant to the user query.Do not ask any follow up questions and just answer the user's query.\n",
        "\"\"\"),\n",
        "    (\"user\", \"{input}\"),\n",
        "    (\"placeholder\", \"{agent_scratchpad}\")\n",
        "])"
      ],
      "metadata": {
        "id": "wu3jpUHhfMUT"
      },
      "execution_count": 96,
      "outputs": []
    },
    {
      "cell_type": "code",
      "source": [
        "!pip install langchain_community"
      ],
      "metadata": {
        "colab": {
          "base_uri": "https://localhost:8080/"
        },
        "id": "fwkZKtWh3Mx8",
        "outputId": "52bb100b-dbae-4929-882a-e96a33bd46a4"
      },
      "execution_count": 97,
      "outputs": [
        {
          "output_type": "stream",
          "name": "stdout",
          "text": [
            "Requirement already satisfied: langchain_community in /usr/local/lib/python3.11/dist-packages (0.3.24)\n",
            "Requirement already satisfied: langchain-core<1.0.0,>=0.3.59 in /usr/local/lib/python3.11/dist-packages (from langchain_community) (0.3.59)\n",
            "Requirement already satisfied: langchain<1.0.0,>=0.3.25 in /usr/local/lib/python3.11/dist-packages (from langchain_community) (0.3.25)\n",
            "Requirement already satisfied: SQLAlchemy<3,>=1.4 in /usr/local/lib/python3.11/dist-packages (from langchain_community) (2.0.40)\n",
            "Requirement already satisfied: requests<3,>=2 in /usr/local/lib/python3.11/dist-packages (from langchain_community) (2.32.3)\n",
            "Requirement already satisfied: PyYAML>=5.3 in /usr/local/lib/python3.11/dist-packages (from langchain_community) (6.0.2)\n",
            "Requirement already satisfied: aiohttp<4.0.0,>=3.8.3 in /usr/local/lib/python3.11/dist-packages (from langchain_community) (3.11.15)\n",
            "Requirement already satisfied: tenacity!=8.4.0,<10,>=8.1.0 in /usr/local/lib/python3.11/dist-packages (from langchain_community) (9.1.2)\n",
            "Requirement already satisfied: dataclasses-json<0.7,>=0.5.7 in /usr/local/lib/python3.11/dist-packages (from langchain_community) (0.6.7)\n",
            "Requirement already satisfied: pydantic-settings<3.0.0,>=2.4.0 in /usr/local/lib/python3.11/dist-packages (from langchain_community) (2.9.1)\n",
            "Requirement already satisfied: langsmith<0.4,>=0.1.125 in /usr/local/lib/python3.11/dist-packages (from langchain_community) (0.3.42)\n",
            "Requirement already satisfied: httpx-sse<1.0.0,>=0.4.0 in /usr/local/lib/python3.11/dist-packages (from langchain_community) (0.4.0)\n",
            "Requirement already satisfied: numpy>=1.26.2 in /usr/local/lib/python3.11/dist-packages (from langchain_community) (2.0.2)\n",
            "Requirement already satisfied: aiohappyeyeballs>=2.3.0 in /usr/local/lib/python3.11/dist-packages (from aiohttp<4.0.0,>=3.8.3->langchain_community) (2.6.1)\n",
            "Requirement already satisfied: aiosignal>=1.1.2 in /usr/local/lib/python3.11/dist-packages (from aiohttp<4.0.0,>=3.8.3->langchain_community) (1.3.2)\n",
            "Requirement already satisfied: attrs>=17.3.0 in /usr/local/lib/python3.11/dist-packages (from aiohttp<4.0.0,>=3.8.3->langchain_community) (25.3.0)\n",
            "Requirement already satisfied: frozenlist>=1.1.1 in /usr/local/lib/python3.11/dist-packages (from aiohttp<4.0.0,>=3.8.3->langchain_community) (1.6.0)\n",
            "Requirement already satisfied: multidict<7.0,>=4.5 in /usr/local/lib/python3.11/dist-packages (from aiohttp<4.0.0,>=3.8.3->langchain_community) (6.4.3)\n",
            "Requirement already satisfied: propcache>=0.2.0 in /usr/local/lib/python3.11/dist-packages (from aiohttp<4.0.0,>=3.8.3->langchain_community) (0.3.1)\n",
            "Requirement already satisfied: yarl<2.0,>=1.17.0 in /usr/local/lib/python3.11/dist-packages (from aiohttp<4.0.0,>=3.8.3->langchain_community) (1.20.0)\n",
            "Requirement already satisfied: marshmallow<4.0.0,>=3.18.0 in /usr/local/lib/python3.11/dist-packages (from dataclasses-json<0.7,>=0.5.7->langchain_community) (3.26.1)\n",
            "Requirement already satisfied: typing-inspect<1,>=0.4.0 in /usr/local/lib/python3.11/dist-packages (from dataclasses-json<0.7,>=0.5.7->langchain_community) (0.9.0)\n",
            "Requirement already satisfied: langchain-text-splitters<1.0.0,>=0.3.8 in /usr/local/lib/python3.11/dist-packages (from langchain<1.0.0,>=0.3.25->langchain_community) (0.3.8)\n",
            "Requirement already satisfied: pydantic<3.0.0,>=2.7.4 in /usr/local/lib/python3.11/dist-packages (from langchain<1.0.0,>=0.3.25->langchain_community) (2.11.4)\n",
            "Requirement already satisfied: jsonpatch<2.0,>=1.33 in /usr/local/lib/python3.11/dist-packages (from langchain-core<1.0.0,>=0.3.59->langchain_community) (1.33)\n",
            "Requirement already satisfied: packaging<25,>=23.2 in /usr/local/lib/python3.11/dist-packages (from langchain-core<1.0.0,>=0.3.59->langchain_community) (24.2)\n",
            "Requirement already satisfied: typing-extensions>=4.7 in /usr/local/lib/python3.11/dist-packages (from langchain-core<1.0.0,>=0.3.59->langchain_community) (4.13.2)\n",
            "Requirement already satisfied: httpx<1,>=0.23.0 in /usr/local/lib/python3.11/dist-packages (from langsmith<0.4,>=0.1.125->langchain_community) (0.28.1)\n",
            "Requirement already satisfied: orjson<4.0.0,>=3.9.14 in /usr/local/lib/python3.11/dist-packages (from langsmith<0.4,>=0.1.125->langchain_community) (3.10.18)\n",
            "Requirement already satisfied: requests-toolbelt<2.0.0,>=1.0.0 in /usr/local/lib/python3.11/dist-packages (from langsmith<0.4,>=0.1.125->langchain_community) (1.0.0)\n",
            "Requirement already satisfied: zstandard<0.24.0,>=0.23.0 in /usr/local/lib/python3.11/dist-packages (from langsmith<0.4,>=0.1.125->langchain_community) (0.23.0)\n",
            "Requirement already satisfied: python-dotenv>=0.21.0 in /usr/local/lib/python3.11/dist-packages (from pydantic-settings<3.0.0,>=2.4.0->langchain_community) (1.1.0)\n",
            "Requirement already satisfied: typing-inspection>=0.4.0 in /usr/local/lib/python3.11/dist-packages (from pydantic-settings<3.0.0,>=2.4.0->langchain_community) (0.4.0)\n",
            "Requirement already satisfied: charset-normalizer<4,>=2 in /usr/local/lib/python3.11/dist-packages (from requests<3,>=2->langchain_community) (3.4.2)\n",
            "Requirement already satisfied: idna<4,>=2.5 in /usr/local/lib/python3.11/dist-packages (from requests<3,>=2->langchain_community) (3.10)\n",
            "Requirement already satisfied: urllib3<3,>=1.21.1 in /usr/local/lib/python3.11/dist-packages (from requests<3,>=2->langchain_community) (2.4.0)\n",
            "Requirement already satisfied: certifi>=2017.4.17 in /usr/local/lib/python3.11/dist-packages (from requests<3,>=2->langchain_community) (2025.4.26)\n",
            "Requirement already satisfied: greenlet>=1 in /usr/local/lib/python3.11/dist-packages (from SQLAlchemy<3,>=1.4->langchain_community) (3.2.1)\n",
            "Requirement already satisfied: anyio in /usr/local/lib/python3.11/dist-packages (from httpx<1,>=0.23.0->langsmith<0.4,>=0.1.125->langchain_community) (4.9.0)\n",
            "Requirement already satisfied: httpcore==1.* in /usr/local/lib/python3.11/dist-packages (from httpx<1,>=0.23.0->langsmith<0.4,>=0.1.125->langchain_community) (1.0.9)\n",
            "Requirement already satisfied: h11>=0.16 in /usr/local/lib/python3.11/dist-packages (from httpcore==1.*->httpx<1,>=0.23.0->langsmith<0.4,>=0.1.125->langchain_community) (0.16.0)\n",
            "Requirement already satisfied: jsonpointer>=1.9 in /usr/local/lib/python3.11/dist-packages (from jsonpatch<2.0,>=1.33->langchain-core<1.0.0,>=0.3.59->langchain_community) (3.0.0)\n",
            "Requirement already satisfied: annotated-types>=0.6.0 in /usr/local/lib/python3.11/dist-packages (from pydantic<3.0.0,>=2.7.4->langchain<1.0.0,>=0.3.25->langchain_community) (0.7.0)\n",
            "Requirement already satisfied: pydantic-core==2.33.2 in /usr/local/lib/python3.11/dist-packages (from pydantic<3.0.0,>=2.7.4->langchain<1.0.0,>=0.3.25->langchain_community) (2.33.2)\n",
            "Requirement already satisfied: mypy-extensions>=0.3.0 in /usr/local/lib/python3.11/dist-packages (from typing-inspect<1,>=0.4.0->dataclasses-json<0.7,>=0.5.7->langchain_community) (1.1.0)\n",
            "Requirement already satisfied: sniffio>=1.1 in /usr/local/lib/python3.11/dist-packages (from anyio->httpx<1,>=0.23.0->langsmith<0.4,>=0.1.125->langchain_community) (1.3.1)\n"
          ]
        }
      ]
    },
    {
      "cell_type": "code",
      "source": [
        "\n",
        "response_agent = create_tool_calling_agent(llm, tools=[pubmed],prompt=response_prompt)"
      ],
      "metadata": {
        "id": "THFpHDOYgEkm"
      },
      "execution_count": 98,
      "outputs": []
    },
    {
      "cell_type": "code",
      "source": [
        "import uuid\n",
        "\n",
        "\n",
        "\n",
        "def RAG_Agent(user_prompt):\n",
        "  data={\"id\":user_info['user_id'],\"text\":user_prompt}\n",
        "  x = pc.inference.embed(\n",
        "    model=\"llama-text-embed-v2\",\n",
        "    inputs=[user_prompt],\n",
        "    parameters={\n",
        "        \"input_type\": \"query\"\n",
        "    })\n",
        "\n",
        "  vectors = []\n",
        "\n",
        "  results = index.query(\n",
        "    namespace=\"ns1\",\n",
        "    vector=x[0].values,\n",
        "    top_k=3,\n",
        "    include_values=False,\n",
        "    include_metadata=True,\n",
        "    filter={\"user_id\":123} )\n",
        "  if results[\"matches\"]:\n",
        "    return results\n",
        "  else:\n",
        "    return \"None\"\n",
        "def build_context(context,user_query):\n",
        "  id1 = str(uuid.uuid4())\n",
        "  id2 = str(uuid.uuid4())\n",
        "  data=[{\"id\":id1,\"text\":user_query},{\"id\":id2,\"text\":context}]\n",
        "\n",
        "  embeddings = pc.inference.embed(\n",
        "    model=\"llama-text-embed-v2\",\n",
        "    inputs=[d['text'] for d in data],\n",
        "    parameters={\n",
        "        \"input_type\": \"passage\"\n",
        "    }\n",
        ")\n",
        "\n",
        "  vectors = []\n",
        "  for d, e in zip(data, embeddings):\n",
        "      vectors.append({\n",
        "          \"id\": d['id'],\n",
        "          \"values\": e['values'],\n",
        "          \"metadata\": {'text': d['text'],'user_id':user_info['user_id']}}\n",
        "      )\n",
        "\n",
        "  index.upsert(\n",
        "      vectors=vectors,\n",
        "      namespace=\"ns1\"\n",
        "  )\n",
        "\n",
        "\n",
        "\n",
        "\n"
      ],
      "metadata": {
        "id": "C_bNjJlMiZs7"
      },
      "execution_count": 99,
      "outputs": []
    },
    {
      "cell_type": "code",
      "source": [
        "from langchain.prompts import ChatPromptTemplate\n",
        "\n",
        "context_prompt = ChatPromptTemplate.from_messages([\n",
        "    (\"system\", \"\"\"\n",
        "You are a checker agent for a medical chatbot.\n",
        "\n",
        "A Retrieval-Augmented Generation (RAG) system has fetched the top context documents for a given user query. If no context was fetched, then context will be False or None.\n",
        "\n",
        "Your task is to analyze the user query and the retrieved context in **two steps**:\n",
        "\n",
        "**Step 1: Context Relevance Check**\n",
        "- Determine whether the retrieved context is relevant to the user query.\n",
        "- If the context is relevant (i.e., it helps address or clarify the user’s query), proceed to Step 2 using the given context.\n",
        "- If the context is **not** relevant to the user query, pretend that **no context was provided** and perform Step 2 as if `context = None`.\n",
        "\n",
        "**Step 2: Sufficiency and Information Request**\n",
        "- Based on the relevant context (or lack thereof), decide whether the available information is sufficient to answer the user query accurately.\n",
        "\n",
        "**Output Format:**\n",
        "- If sufficient, respond with:\n",
        "  **Sufficient**\n",
        "- If not sufficient, respond in a natural, conversational tone. Ask the user to provide the specific missing information needed to answer their query clearly and helpfully. Your response should flow like a chatbot message, such as:\n",
        "  _\"Thanks for your question! To help you better, could you please tell me more about...?\"_\n",
        "Note: Do not make comments about context as if you are an LLM infront of the user. The user should feel like he is interacting with a person\n",
        "Use the following input format:\n",
        "user: <user_query>\n",
        "context: <retrieved_context> or None if no context\n",
        "\"\"\"),\n",
        "    (\"user\", \"{input}\"),\n",
        "    (\"placeholder\", \"{agent_scratchpad}\")\n",
        "])\n"
      ],
      "metadata": {
        "id": "CMZMmpOr0jKD"
      },
      "execution_count": 100,
      "outputs": []
    },
    {
      "cell_type": "code",
      "source": [
        "context_agent = create_tool_calling_agent(llm, tools=tools,prompt=context_prompt)"
      ],
      "metadata": {
        "id": "zhNizgfa6G8J"
      },
      "execution_count": 101,
      "outputs": []
    },
    {
      "cell_type": "code",
      "source": [
        "from langchain.agents import AgentExecutor\n",
        "\n",
        "control_agent_executor = AgentExecutor(agent=controller_agent, tools=tools, verbose=True)\n",
        "\n",
        "response_agent_executor = AgentExecutor(agent=response_agent, tools=[pubmed], verbose=True)\n",
        "\n",
        "context_agent_executor = AgentExecutor(agent=context_agent, tools=tools, verbose=True)"
      ],
      "metadata": {
        "id": "NLCw-IyDbVEB"
      },
      "execution_count": 102,
      "outputs": []
    },
    {
      "cell_type": "code",
      "source": [
        "user_query=\"I am having a severe headache\"\n",
        "selected_agent=control_agent_executor.invoke({\"input\":user_query})\n",
        "selected_agent"
      ],
      "metadata": {
        "id": "8LvzaXzobouu",
        "colab": {
          "base_uri": "https://localhost:8080/"
        },
        "outputId": "b3c410af-59f4-4a86-9d4e-c75feee59b65"
      },
      "execution_count": 103,
      "outputs": [
        {
          "output_type": "stream",
          "name": "stdout",
          "text": [
            "\n",
            "\n",
            "\u001b[1m> Entering new AgentExecutor chain...\u001b[0m\n",
            "\u001b[32;1m\u001b[1;3mretriever_agent\u001b[0m\n",
            "\n",
            "\u001b[1m> Finished chain.\u001b[0m\n"
          ]
        },
        {
          "output_type": "execute_result",
          "data": {
            "text/plain": [
              "{'input': 'I am having a severe headache', 'output': 'retriever_agent'}"
            ]
          },
          "metadata": {},
          "execution_count": 103
        }
      ]
    },
    {
      "cell_type": "code",
      "source": [
        "print(selected_agent)"
      ],
      "metadata": {
        "id": "m_b_7F90hv5O",
        "colab": {
          "base_uri": "https://localhost:8080/"
        },
        "outputId": "ad7a5fff-f063-4631-b4b7-2d47b6c88575"
      },
      "execution_count": 104,
      "outputs": [
        {
          "output_type": "stream",
          "name": "stdout",
          "text": [
            "{'input': 'I am having a severe headache', 'output': 'retriever_agent'}\n"
          ]
        }
      ]
    },
    {
      "cell_type": "code",
      "source": [
        "if selected_agent['output'] == \"Response_agent\":\n",
        "    result = response_agent_executor.invoke({\"input\": user_query})\n",
        "else:\n",
        "  results=RAG_Agent(user_query)\n",
        "\n",
        "  formatted_query=''\n",
        "  if results!=\"None\":\n",
        "    context_texts = [match['metadata']['text'] for match in results['matches']]\n",
        "    combined_context = \"\\n\".join(context_texts)\n",
        "    formatted_query = f\"user: {user_query}\\ncontext: {combined_context}\"\n",
        "  else:\n",
        "    formatted_query = f\"user: {user_query}\\ncontext:None\"\n",
        "\n",
        "  contexts=context_agent_executor.invoke({\"input\":formatted_query})\n",
        "  context=''\n",
        "  if contexts['output']!='Sufficient':\n",
        "\n",
        "    context=input()\n",
        "    build_context(context,user_query)\n",
        "  final_query=user_query+formatted_query+context\n",
        "  result = response_agent_executor.invoke({\"input\":final_query})\n",
        "print(result['output'])\n",
        "\n",
        "\n",
        "\n",
        "\n"
      ],
      "metadata": {
        "id": "DglHcucKgxHo",
        "colab": {
          "base_uri": "https://localhost:8080/"
        },
        "outputId": "783381da-0714-4444-d66b-cfed17cb93f7"
      },
      "execution_count": 105,
      "outputs": [
        {
          "output_type": "stream",
          "name": "stdout",
          "text": [
            "\n",
            "\n",
            "\u001b[1m> Entering new AgentExecutor chain...\u001b[0m\n",
            "\u001b[32;1m\u001b[1;3mThanks for sharing that with me. To help you better, could you please tell me more about any other symptoms you're experiencing, such as fever, nausea, or sensitivity to light, and also what you've tried so far to relieve the headache?\u001b[0m\n",
            "\n",
            "\u001b[1m> Finished chain.\u001b[0m\n",
            "NO I do not have any other symtoms. I am just really sleepy\n",
            "\n",
            "\n",
            "\u001b[1m> Entering new AgentExecutor chain...\u001b[0m\n",
            "\u001b[32;1m\u001b[1;3m\n",
            "Invoking: `pub_med` with `{'query': 'severe headache causes'}`\n",
            "\n",
            "\n",
            "\u001b[0mToo Many Requests, waiting for 0.20 seconds...\n",
            "\u001b[36;1m\u001b[1;3mPublished: 2025-04-30\n",
            "Title: Long-Term Cardiovascular Risk and Maternal History of Pre-Eclampsia.\n",
            "Copyright Information: \n",
            "Summary::\n",
            "Pre-eclampsia is a severe pregnancy complication affecting 5-8% of pregnancies worldwide, marked by high blood pressure and organ damage typically occurring after 20 weeks of gestation. It is a leading cause of maternal and fetal morbidity and mortality. Though its exact cause is unknown, it involves placental abnormalities and improper blood vessel development. Risk factors include a history of pre-eclampsia, chronic hypertension, diabetes, obesity, and autoimmune disorders. Symptoms include high blood pressure, proteinuria, headaches, vision changes, and abdominal pain. Untreated, it can lead to seizures, stroke, preterm birth, or death. Delivery is the definitive treatment, with management strategies such as monitoring and blood pressure control. Pre-eclampsia significantly increases long-term cardiovascular disease (CVD) risks, including hypertension, ischemic heart disease, and stroke, linked to shared mechanisms like endothelial dysfunction and inflammation. Women with severe or recurrent pre-eclampsia have heightened risks, often developing chronic hypertension within a decade postpartum. It also impacts offspring, with daughters at elevated risk for pre-eclampsia and CVD. Hypertensive disorders of pregnancy, including pre-eclampsia, induce changes like left ventricular hypertrophy and diastolic dysfunction, raising risks for heart failure with preserved ejection fraction and coronary atherosclerosis. Overlapping with peripartum cardiomyopathy, pre-eclampsia underscores a spectrum of pregnancy-related cardiovascular disorders. Long-term monitoring and lifestyle interventions are crucial for managing risks, with research into genetic and biological mechanisms offering the potential for targeted prevention.\n",
            "\n",
            "Published: 2025-04-28\n",
            "Title: Impact of Side Effects on Anemia Therapy Compliance.\n",
            "Copyright Information: \n",
            "Summary::\n",
            "BACKGROUN\u001b[0m\u001b[32;1m\u001b[1;3m\n",
            "Invoking: `pub_med` with `{'query': 'headache when feeling sleepy'}`\n",
            "\n",
            "\n",
            "\u001b[0m\u001b[36;1m\u001b[1;3mPublished: --\n",
            "Title: Exploring pain phenomena and associations in Parkinson's disease: A Turkish perspective.\n",
            "Copyright Information: \n",
            "Summary::\n",
            "BACKGROUND AND PURPOSE: Despite being recognised for a long time as a non-motor characteristic of Parkinson's disease (PD), pain is still a symptom that is underdiagnosed and undertreated. This study aimed to assess the relationship between PD patients' pain and sleep disturbances, depression, cognitive functions, fatigue and quality of life.\n",
            "METHODS: A total of 100 patients with primary PD were recruited for this study. Their demographic and clinical features, including age, gender distribution, educational level, smoking, lateralization and duration of PD, and comorbid diseases were recorded. The patients were divided into two groups: patients with and without pain. The scores on the Unified Parkinson's Disease Rating Scale (UPDRS), Hoehn and Yahr Scale, Mini-Mental State Examination, Parkinson's Disease Questionnaire-39 (PDQ-39), Fatigue Severity Scale, Beck Depression and Anxiety Inventories, and Epworth Sleepiness Scale were compared between the two groups.\n",
            "RESULTS: Statistical analyses regarding questionnaires revealed higher scores in various domains for PD patients with pain, although significance was not found in all measures (p > 0.05). However, PDQ-39 test scores were significantly higher in PD patients with pain compared to those without pain (p = 0.036). Patients with pain presented significantly higher scores than those without pain for all domains of the UPDRS and Hoehn-Yahr Scale (p < 0.05). In order of frequency, musculoskeletal pain, radicular pain, parkinsonian pain, headache, neuropathic pain, and inflammatory pain were detected.\n",
            "CONCLUSION: Our findings show that pain was prevalent in more than half of the participants, with musculoskeletal pain being the most common type. Additionally, experiencing multiple types of pain concurrently may highlight the complexity of pain presentation in this population, \u001b[0m\u001b[32;1m\u001b[1;3m\n",
            "Invoking: `pub_med` with `{'query': 'treatment for severe headache'}`\n",
            "\n",
            "\n",
            "\u001b[0m\u001b[36;1m\u001b[1;3mPubMed exception: HTTP Error 429: Too Many Requests\u001b[0m\u001b[32;1m\u001b[1;3mI'm a medical chatbot and can only answer health-related questions. Based on the information provided, it seems that you are experiencing a severe headache, which is often accompanied by sleepiness. \n",
            "\n",
            "Headaches can be caused by a variety of factors, including dehydration, stress, and sleep disorders. Since you mentioned that you don't exercise and have no other symptoms, it's possible that your headache is related to your sleep patterns or other lifestyle factors.\n",
            "\n",
            "To manage your headache, you may want to try staying hydrated by drinking plenty of water, getting regular exercise, and establishing a consistent sleep schedule. You can also try relaxation techniques such as deep breathing or meditation to help reduce stress and promote relaxation.\n",
            "\n",
            "If your headaches persist or worsen, it's always a good idea to consult with a healthcare professional for further evaluation and guidance. They can help determine the underlying cause of your headaches and recommend appropriate treatment options.\u001b[0m\n",
            "\n",
            "\u001b[1m> Finished chain.\u001b[0m\n",
            "I'm a medical chatbot and can only answer health-related questions. Based on the information provided, it seems that you are experiencing a severe headache, which is often accompanied by sleepiness. \n",
            "\n",
            "Headaches can be caused by a variety of factors, including dehydration, stress, and sleep disorders. Since you mentioned that you don't exercise and have no other symptoms, it's possible that your headache is related to your sleep patterns or other lifestyle factors.\n",
            "\n",
            "To manage your headache, you may want to try staying hydrated by drinking plenty of water, getting regular exercise, and establishing a consistent sleep schedule. You can also try relaxation techniques such as deep breathing or meditation to help reduce stress and promote relaxation.\n",
            "\n",
            "If your headaches persist or worsen, it's always a good idea to consult with a healthcare professional for further evaluation and guidance. They can help determine the underlying cause of your headaches and recommend appropriate treatment options.\n"
          ]
        }
      ]
    },
    {
      "cell_type": "code",
      "source": [
        "pubmed.invoke(\"What is panadol used for?\")"
      ],
      "metadata": {
        "id": "xATNyKF62zJj",
        "colab": {
          "base_uri": "https://localhost:8080/",
          "height": 122
        },
        "outputId": "b1c88b34-2097-4f3a-ba21-f66170916078"
      },
      "execution_count": 106,
      "outputs": [
        {
          "output_type": "stream",
          "name": "stdout",
          "text": [
            "Too Many Requests, waiting for 0.40 seconds...\n"
          ]
        },
        {
          "output_type": "execute_result",
          "data": {
            "text/plain": [
              "'Published: 2025-05-14\\nTitle: Quantitative Systems Toxicology Modeling of Acetaminophen Pharmacokinetics and Hepatic Biomarkers After Overdoses of Extended-Release and Immediate-Release Formulations in Adults With Chronic Alcohol Use or Low Glutathione.\\nCopyright Information: © 2025 The Author(s). CPT: Pharmacometrics & Systems Pharmacology published by Wiley Periodicals LLC on behalf of American Society for Clinical Pharmacology and Therapeutics.\\nSummary::\\nAcetaminophen (APAP), an over-the-counter analgesic and antipyretic, can cause hepatotoxicity when ingested in large overdoses. APAP has multiple formulations including immediate-release (IR) and extended-release (ER) preparations. A recently published consensus statement on the management of APAP poisoning indicated that management of APAP-ER overdose is the same as that for APAP-IR overdose. Consistent with this consensus, it was previously reported that quantitative systems toxicology (QST) modeling using DILIsym predicted similar pharmacokinetic (PK) and hepatic biomarker profiles for the APAP-ER and APAP-IR formulations after overdose in healthy adults. Hepatic injury from APAP is caused by the reactive metabolite, N-acetyl-ρ-benzoquinone imine (NAPQI), which is formed predominantly by CYP2E1-mediated metabolism and eliminated by hepatic glutathione. As such, conditions that can increase NAPQI production (e.g., CYP2E1 induction by alcohol) or decrease hepatic glutathione stores (e.g., underling liver disease) may impact PK and susceptibility to hepatotoxicity after overdose of APAP-IR and APAP-ER. In the current study, APAP-IR and APAP-ER models in chronic alcohol users and individuals with low hepatic glutathione were developed and verified within DILIsym. Simulations using verified models predicted similar PK and hepatic biomarker profiles for the APAP-ER and APAP-IR formulations in moderate and excessive chronic alcohol users and adults with low hepatic glutathione levels after single acute overdoses up to'"
            ],
            "application/vnd.google.colaboratory.intrinsic+json": {
              "type": "string"
            }
          },
          "metadata": {},
          "execution_count": 106
        }
      ]
    }
  ]
}